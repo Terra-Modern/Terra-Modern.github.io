{
 "cells": [
  {
   "cell_type": "code",
   "execution_count": 1,
   "metadata": {},
   "outputs": [
    {
     "data": {
      "application/vnd.jupyter.widget-view+json": {
       "model_id": "2475d58090514429a41a0b06aec2b897",
       "version_major": 2,
       "version_minor": 0
      },
      "text/plain": [
       "Map(center=[50, 354], controls=(ZoomControl(options=['position', 'zoom_in_text', 'zoom_in_title', 'zoom_out_te…"
      ]
     },
     "metadata": {},
     "output_type": "display_data"
    }
   ],
   "source": [
    "from ipyleaflet import Map, basemaps, basemap_to_tiles, DrawControl\n",
    "\n",
    "watercolor = basemap_to_tiles(basemaps.Stamen.Watercolor)\n",
    "\n",
    "m = Map(layers=(watercolor, ), center=(50, 354), zoom=5)\n",
    "\n",
    "draw_control = DrawControl()\n",
    "draw_control.polyline =  {\n",
    "    \"shapeOptions\": {\n",
    "        \"color\": \"#6bc2e5\",\n",
    "        \"weight\": 8,\n",
    "        \"opacity\": 1.0\n",
    "    }\n",
    "}\n",
    "draw_control.polygon = {\n",
    "    \"shapeOptions\": {\n",
    "        \"fillColor\": \"#6be5c3\",\n",
    "        \"color\": \"#6be5c3\",\n",
    "        \"fillOpacity\": 1.0\n",
    "    },\n",
    "    \"drawError\": {\n",
    "        \"color\": \"#dd253b\",\n",
    "        \"message\": \"Oups!\"\n",
    "    },\n",
    "    \"allowIntersection\": False\n",
    "}\n",
    "draw_control.circle = {\n",
    "    \"shapeOptions\": {\n",
    "        \"fillColor\": \"#efed69\",\n",
    "        \"color\": \"#efed69\",\n",
    "        \"fillOpacity\": 1.0\n",
    "    }\n",
    "}\n",
    "draw_control.rectangle = {\n",
    "    \"shapeOptions\": {\n",
    "        \"fillColor\": \"#fca45d\",\n",
    "        \"color\": \"#fca45d\",\n",
    "        \"fillOpacity\": 1.0\n",
    "    }\n",
    "}\n",
    "\n",
    "m.add_control(draw_control)\n",
    "\n",
    "m"
   ]
  },
  {
   "cell_type": "code",
   "execution_count": null,
   "metadata": {},
   "outputs": [],
   "source": []
  }
 ],
 "metadata": {
  "kernelspec": {
   "display_name": "Python 3",
   "language": "python",
   "name": "python3"
  },
  "language_info": {
   "codemirror_mode": {
    "name": "ipython",
    "version": 3
   },
   "file_extension": ".py",
   "mimetype": "text/x-python",
   "name": "python",
   "nbconvert_exporter": "python",
   "pygments_lexer": "ipython3",
   "version": "3.7.4"
  },
  "nikola": {
   "category": "",
   "date": "2020-11-06 16:31:08 UTC-05:00",
   "description": "",
   "link": "",
   "slug": "notebook-test",
   "tags": "",
   "title": "notebook test",
   "type": "text"
  }
 },
 "nbformat": 4,
 "nbformat_minor": 4
}
